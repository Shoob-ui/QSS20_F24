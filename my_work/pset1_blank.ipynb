{
 "cells": [
  {
   "cell_type": "markdown",
   "metadata": {},
   "source": [
    "# Problem Set 1: Analysis of racial disparities in felony sentencing"
   ]
  },
  {
   "cell_type": "markdown",
   "metadata": {},
   "source": [
    "# 0. Load packages and imports"
   ]
  },
  {
   "cell_type": "code",
   "execution_count": 3,
   "metadata": {},
   "outputs": [],
   "source": [
    "## basic functionality\n",
    "import pandas as pd\n",
    "import numpy as np\n",
    "import re\n",
    "\n",
    "## can add others if you need them\n",
    "\n",
    "## repeated printouts\n",
    "from IPython.core.interactiveshell import InteractiveShell\n",
    "InteractiveShell.ast_node_interactivity = \"all\"\n"
   ]
  },
  {
   "cell_type": "code",
   "execution_count": null,
   "metadata": {},
   "outputs": [],
   "source": []
  },
  {
   "cell_type": "markdown",
   "metadata": {},
   "source": [
    "## 0.1: Load the data (0 points)\n",
    "\n",
    "Load the `sentencing_asof0405.csv` data\n",
    "\n",
    "*Notes*: You may receive a warning about mixed data types upon import; feel free to ignore"
   ]
  },
  {
   "cell_type": "code",
   "execution_count": 5,
   "metadata": {},
   "outputs": [
    {
     "name": "stderr",
     "output_type": "stream",
     "text": [
      "C:\\Users\\shoai\\AppData\\Local\\Temp\\ipykernel_33840\\3628637005.py:1: DtypeWarning: Columns (10,11,14,25) have mixed types. Specify dtype option on import or set low_memory=False.\n",
      "  df = sentencing_data = pd.read_csv(\"sentencing_asof0405.csv\")\n"
     ]
    }
   ],
   "source": [
    "df = sentencing_data = pd.read_csv(\"sentencing_asof0405.csv\")"
   ]
  },
  {
   "cell_type": "markdown",
   "metadata": {},
   "source": [
    "# Part one: data cleaning/interpretation"
   ]
  },
  {
   "cell_type": "markdown",
   "metadata": {},
   "source": [
    "## 0.2: Print head, dimensions, info (0 points)"
   ]
  },
  {
   "cell_type": "code",
   "execution_count": 8,
   "metadata": {},
   "outputs": [
    {
     "data": {
      "text/html": [
       "<div>\n",
       "<style scoped>\n",
       "    .dataframe tbody tr th:only-of-type {\n",
       "        vertical-align: middle;\n",
       "    }\n",
       "\n",
       "    .dataframe tbody tr th {\n",
       "        vertical-align: top;\n",
       "    }\n",
       "\n",
       "    .dataframe thead th {\n",
       "        text-align: right;\n",
       "    }\n",
       "</style>\n",
       "<table border=\"1\" class=\"dataframe\">\n",
       "  <thead>\n",
       "    <tr style=\"text-align: right;\">\n",
       "      <th></th>\n",
       "      <th>CASE_ID</th>\n",
       "      <th>CASE_PARTICIPANT_ID</th>\n",
       "      <th>RECEIVED_DATE</th>\n",
       "      <th>OFFENSE_CATEGORY</th>\n",
       "      <th>PRIMARY_CHARGE_FLAG</th>\n",
       "      <th>CHARGE_ID</th>\n",
       "      <th>CHARGE_VERSION_ID</th>\n",
       "      <th>DISPOSITION_CHARGED_OFFENSE_TITLE</th>\n",
       "      <th>CHARGE_COUNT</th>\n",
       "      <th>DISPOSITION_DATE</th>\n",
       "      <th>...</th>\n",
       "      <th>INCIDENT_CITY</th>\n",
       "      <th>INCIDENT_BEGIN_DATE</th>\n",
       "      <th>INCIDENT_END_DATE</th>\n",
       "      <th>LAW_ENFORCEMENT_AGENCY</th>\n",
       "      <th>LAW_ENFORCEMENT_UNIT</th>\n",
       "      <th>ARREST_DATE</th>\n",
       "      <th>FELONY_REVIEW_DATE</th>\n",
       "      <th>FELONY_REVIEW_RESULT</th>\n",
       "      <th>ARRAIGNMENT_DATE</th>\n",
       "      <th>UPDATED_OFFENSE_CATEGORY</th>\n",
       "    </tr>\n",
       "  </thead>\n",
       "  <tbody>\n",
       "    <tr>\n",
       "      <th>0</th>\n",
       "      <td>149765331439</td>\n",
       "      <td>175691153649</td>\n",
       "      <td>8/15/1984 12:00:00 AM</td>\n",
       "      <td>PROMIS Conversion</td>\n",
       "      <td>False</td>\n",
       "      <td>50510112469</td>\n",
       "      <td>116304211997</td>\n",
       "      <td>FIRST DEGREE MURDER</td>\n",
       "      <td>2</td>\n",
       "      <td>12/17/2014 12:00:00 AM</td>\n",
       "      <td>...</td>\n",
       "      <td>NaN</td>\n",
       "      <td>8/9/1984 12:00:00 AM</td>\n",
       "      <td>NaN</td>\n",
       "      <td>CHICAGO POLICE DEPT</td>\n",
       "      <td>NaN</td>\n",
       "      <td>8/15/1984 12:00:00 AM</td>\n",
       "      <td>08/15/1984 12:00:00 AM</td>\n",
       "      <td>Charge(S) Approved</td>\n",
       "      <td>9/21/1984 12:00:00 AM</td>\n",
       "      <td>Homicide</td>\n",
       "    </tr>\n",
       "    <tr>\n",
       "      <th>1</th>\n",
       "      <td>149765331439</td>\n",
       "      <td>175691153649</td>\n",
       "      <td>8/15/1984 12:00:00 AM</td>\n",
       "      <td>PROMIS Conversion</td>\n",
       "      <td>False</td>\n",
       "      <td>50510213021</td>\n",
       "      <td>98265074680</td>\n",
       "      <td>HOME INVASION</td>\n",
       "      <td>14</td>\n",
       "      <td>12/17/2014 12:00:00 AM</td>\n",
       "      <td>...</td>\n",
       "      <td>NaN</td>\n",
       "      <td>8/9/1984 12:00:00 AM</td>\n",
       "      <td>NaN</td>\n",
       "      <td>CHICAGO POLICE DEPT</td>\n",
       "      <td>NaN</td>\n",
       "      <td>8/15/1984 12:00:00 AM</td>\n",
       "      <td>08/15/1984 12:00:00 AM</td>\n",
       "      <td>Charge(S) Approved</td>\n",
       "      <td>9/21/1984 12:00:00 AM</td>\n",
       "      <td>Homicide</td>\n",
       "    </tr>\n",
       "    <tr>\n",
       "      <th>2</th>\n",
       "      <td>149765331439</td>\n",
       "      <td>175691153649</td>\n",
       "      <td>8/15/1984 12:00:00 AM</td>\n",
       "      <td>PROMIS Conversion</td>\n",
       "      <td>False</td>\n",
       "      <td>50516447217</td>\n",
       "      <td>131972895911</td>\n",
       "      <td>FIRST DEGREE MURDER</td>\n",
       "      <td>4</td>\n",
       "      <td>12/17/2014 12:00:00 AM</td>\n",
       "      <td>...</td>\n",
       "      <td>NaN</td>\n",
       "      <td>8/9/1984 12:00:00 AM</td>\n",
       "      <td>NaN</td>\n",
       "      <td>CHICAGO POLICE DEPT</td>\n",
       "      <td>NaN</td>\n",
       "      <td>8/15/1984 12:00:00 AM</td>\n",
       "      <td>08/15/1984 12:00:00 AM</td>\n",
       "      <td>Charge(S) Approved</td>\n",
       "      <td>9/21/1984 12:00:00 AM</td>\n",
       "      <td>Homicide</td>\n",
       "    </tr>\n",
       "    <tr>\n",
       "      <th>3</th>\n",
       "      <td>149765331439</td>\n",
       "      <td>175691153649</td>\n",
       "      <td>8/15/1984 12:00:00 AM</td>\n",
       "      <td>PROMIS Conversion</td>\n",
       "      <td>False</td>\n",
       "      <td>50516497493</td>\n",
       "      <td>131966356472</td>\n",
       "      <td>FIRST DEGREE MURDER</td>\n",
       "      <td>5</td>\n",
       "      <td>12/17/2014 12:00:00 AM</td>\n",
       "      <td>...</td>\n",
       "      <td>NaN</td>\n",
       "      <td>8/9/1984 12:00:00 AM</td>\n",
       "      <td>NaN</td>\n",
       "      <td>CHICAGO POLICE DEPT</td>\n",
       "      <td>NaN</td>\n",
       "      <td>8/15/1984 12:00:00 AM</td>\n",
       "      <td>08/15/1984 12:00:00 AM</td>\n",
       "      <td>Charge(S) Approved</td>\n",
       "      <td>9/21/1984 12:00:00 AM</td>\n",
       "      <td>Homicide</td>\n",
       "    </tr>\n",
       "    <tr>\n",
       "      <th>4</th>\n",
       "      <td>149765331439</td>\n",
       "      <td>175691153649</td>\n",
       "      <td>8/15/1984 12:00:00 AM</td>\n",
       "      <td>PROMIS Conversion</td>\n",
       "      <td>False</td>\n",
       "      <td>50516648320</td>\n",
       "      <td>98059642859</td>\n",
       "      <td>HOME INVASION</td>\n",
       "      <td>13</td>\n",
       "      <td>12/17/2014 12:00:00 AM</td>\n",
       "      <td>...</td>\n",
       "      <td>NaN</td>\n",
       "      <td>8/9/1984 12:00:00 AM</td>\n",
       "      <td>NaN</td>\n",
       "      <td>CHICAGO POLICE DEPT</td>\n",
       "      <td>NaN</td>\n",
       "      <td>8/15/1984 12:00:00 AM</td>\n",
       "      <td>08/15/1984 12:00:00 AM</td>\n",
       "      <td>Charge(S) Approved</td>\n",
       "      <td>9/21/1984 12:00:00 AM</td>\n",
       "      <td>Homicide</td>\n",
       "    </tr>\n",
       "  </tbody>\n",
       "</table>\n",
       "<p>5 rows × 41 columns</p>\n",
       "</div>"
      ],
      "text/plain": [
       "        CASE_ID  CASE_PARTICIPANT_ID          RECEIVED_DATE  \\\n",
       "0  149765331439         175691153649  8/15/1984 12:00:00 AM   \n",
       "1  149765331439         175691153649  8/15/1984 12:00:00 AM   \n",
       "2  149765331439         175691153649  8/15/1984 12:00:00 AM   \n",
       "3  149765331439         175691153649  8/15/1984 12:00:00 AM   \n",
       "4  149765331439         175691153649  8/15/1984 12:00:00 AM   \n",
       "\n",
       "    OFFENSE_CATEGORY  PRIMARY_CHARGE_FLAG    CHARGE_ID  CHARGE_VERSION_ID  \\\n",
       "0  PROMIS Conversion                False  50510112469       116304211997   \n",
       "1  PROMIS Conversion                False  50510213021        98265074680   \n",
       "2  PROMIS Conversion                False  50516447217       131972895911   \n",
       "3  PROMIS Conversion                False  50516497493       131966356472   \n",
       "4  PROMIS Conversion                False  50516648320        98059642859   \n",
       "\n",
       "  DISPOSITION_CHARGED_OFFENSE_TITLE  CHARGE_COUNT        DISPOSITION_DATE  \\\n",
       "0               FIRST DEGREE MURDER             2  12/17/2014 12:00:00 AM   \n",
       "1                     HOME INVASION            14  12/17/2014 12:00:00 AM   \n",
       "2               FIRST DEGREE MURDER             4  12/17/2014 12:00:00 AM   \n",
       "3               FIRST DEGREE MURDER             5  12/17/2014 12:00:00 AM   \n",
       "4                     HOME INVASION            13  12/17/2014 12:00:00 AM   \n",
       "\n",
       "   ... INCIDENT_CITY   INCIDENT_BEGIN_DATE INCIDENT_END_DATE  \\\n",
       "0  ...           NaN  8/9/1984 12:00:00 AM               NaN   \n",
       "1  ...           NaN  8/9/1984 12:00:00 AM               NaN   \n",
       "2  ...           NaN  8/9/1984 12:00:00 AM               NaN   \n",
       "3  ...           NaN  8/9/1984 12:00:00 AM               NaN   \n",
       "4  ...           NaN  8/9/1984 12:00:00 AM               NaN   \n",
       "\n",
       "  LAW_ENFORCEMENT_AGENCY LAW_ENFORCEMENT_UNIT            ARREST_DATE  \\\n",
       "0    CHICAGO POLICE DEPT                  NaN  8/15/1984 12:00:00 AM   \n",
       "1    CHICAGO POLICE DEPT                  NaN  8/15/1984 12:00:00 AM   \n",
       "2    CHICAGO POLICE DEPT                  NaN  8/15/1984 12:00:00 AM   \n",
       "3    CHICAGO POLICE DEPT                  NaN  8/15/1984 12:00:00 AM   \n",
       "4    CHICAGO POLICE DEPT                  NaN  8/15/1984 12:00:00 AM   \n",
       "\n",
       "       FELONY_REVIEW_DATE FELONY_REVIEW_RESULT       ARRAIGNMENT_DATE  \\\n",
       "0  08/15/1984 12:00:00 AM   Charge(S) Approved  9/21/1984 12:00:00 AM   \n",
       "1  08/15/1984 12:00:00 AM   Charge(S) Approved  9/21/1984 12:00:00 AM   \n",
       "2  08/15/1984 12:00:00 AM   Charge(S) Approved  9/21/1984 12:00:00 AM   \n",
       "3  08/15/1984 12:00:00 AM   Charge(S) Approved  9/21/1984 12:00:00 AM   \n",
       "4  08/15/1984 12:00:00 AM   Charge(S) Approved  9/21/1984 12:00:00 AM   \n",
       "\n",
       "  UPDATED_OFFENSE_CATEGORY  \n",
       "0                 Homicide  \n",
       "1                 Homicide  \n",
       "2                 Homicide  \n",
       "3                 Homicide  \n",
       "4                 Homicide  \n",
       "\n",
       "[5 rows x 41 columns]"
      ]
     },
     "execution_count": 8,
     "metadata": {},
     "output_type": "execute_result"
    },
    {
     "data": {
      "text/plain": [
       "2"
      ]
     },
     "execution_count": 8,
     "metadata": {},
     "output_type": "execute_result"
    },
    {
     "name": "stdout",
     "output_type": "stream",
     "text": [
      "<class 'pandas.core.frame.DataFrame'>\n",
      "RangeIndex: 248146 entries, 0 to 248145\n",
      "Data columns (total 41 columns):\n",
      " #   Column                             Non-Null Count   Dtype  \n",
      "---  ------                             --------------   -----  \n",
      " 0   CASE_ID                            248146 non-null  int64  \n",
      " 1   CASE_PARTICIPANT_ID                248146 non-null  int64  \n",
      " 2   RECEIVED_DATE                      248146 non-null  object \n",
      " 3   OFFENSE_CATEGORY                   248146 non-null  object \n",
      " 4   PRIMARY_CHARGE_FLAG                248146 non-null  bool   \n",
      " 5   CHARGE_ID                          248146 non-null  int64  \n",
      " 6   CHARGE_VERSION_ID                  248146 non-null  int64  \n",
      " 7   DISPOSITION_CHARGED_OFFENSE_TITLE  248146 non-null  object \n",
      " 8   CHARGE_COUNT                       248146 non-null  int64  \n",
      " 9   DISPOSITION_DATE                   248146 non-null  object \n",
      " 10  DISPOSITION_CHARGED_CHAPTER        248146 non-null  object \n",
      " 11  DISPOSITION_CHARGED_ACT            242771 non-null  object \n",
      " 12  DISPOSITION_CHARGED_SECTION        242771 non-null  object \n",
      " 13  DISPOSITION_CHARGED_CLASS          248127 non-null  object \n",
      " 14  DISPOSITION_CHARGED_AOIC           248122 non-null  object \n",
      " 15  CHARGE_DISPOSITION                 248146 non-null  object \n",
      " 16  CHARGE_DISPOSITION_REASON          904 non-null     object \n",
      " 17  SENTENCE_JUDGE                     247404 non-null  object \n",
      " 18  SENTENCE_COURT_NAME                246761 non-null  object \n",
      " 19  SENTENCE_COURT_FACILITY            246216 non-null  object \n",
      " 20  SENTENCE_PHASE                     248146 non-null  object \n",
      " 21  SENTENCE_DATE                      248146 non-null  object \n",
      " 22  SENTENCE_TYPE                      248146 non-null  object \n",
      " 23  CURRENT_SENTENCE_FLAG              248146 non-null  bool   \n",
      " 24  COMMITMENT_TYPE                    246464 non-null  object \n",
      " 25  COMMITMENT_TERM                    246434 non-null  object \n",
      " 26  COMMITMENT_UNIT                    246434 non-null  object \n",
      " 27  LENGTH_OF_CASE_in_Days             229126 non-null  float64\n",
      " 28  AGE_AT_INCIDENT                    238359 non-null  float64\n",
      " 29  RACE                               246879 non-null  object \n",
      " 30  GENDER                             247337 non-null  object \n",
      " 31  INCIDENT_CITY                      228745 non-null  object \n",
      " 32  INCIDENT_BEGIN_DATE                239122 non-null  object \n",
      " 33  INCIDENT_END_DATE                  22008 non-null   object \n",
      " 34  LAW_ENFORCEMENT_AGENCY             239405 non-null  object \n",
      " 35  LAW_ENFORCEMENT_UNIT               76408 non-null   object \n",
      " 36  ARREST_DATE                        242981 non-null  object \n",
      " 37  FELONY_REVIEW_DATE                 171907 non-null  object \n",
      " 38  FELONY_REVIEW_RESULT               171907 non-null  object \n",
      " 39  ARRAIGNMENT_DATE                   229126 non-null  object \n",
      " 40  UPDATED_OFFENSE_CATEGORY           248146 non-null  object \n",
      "dtypes: bool(2), float64(2), int64(5), object(32)\n",
      "memory usage: 74.3+ MB\n"
     ]
    }
   ],
   "source": [
    "df.head()\n",
    "df.ndim\n",
    "df.info()"
   ]
  },
  {
   "cell_type": "markdown",
   "metadata": {},
   "source": [
    "## 1.1: Understanding the unit of analysis (5 points)\n",
    "\n",
    "- Print the number of unique values for the following columns. Do so in a way that avoids copying/pasting code for \n",
    "the three:\n",
    "\n",
    "    - Cases (`CASE_ID`)\n",
    "    - People in that case (`CASE_PARTICIPANT_ID`)\n",
    "    - Charges (`CHARGE_ID`)\n",
    "\n",
    "- Write a couple sentences on the following and show an example of each (e.g., a case involving multiple people):\n",
    "    \n",
    "    - Why there are more unique people than unique cases?\n",
    "    - Why there are more unique charges than unique people?\n",
    "\n",
    "- Print the mean and median number of charges per case/participant \n",
    "\n",
    "- Print the mean and median number of participants per case\n",
    "\n",
    "- Does the data seem to enable us to follow the same defendant across different cases they're charged in? Write 1 sentence in support of your conclusion.\n"
   ]
  },
  {
   "cell_type": "code",
   "execution_count": 11,
   "metadata": {},
   "outputs": [
    {
     "data": {
      "text/plain": [
       "197519"
      ]
     },
     "execution_count": 11,
     "metadata": {},
     "output_type": "execute_result"
    },
    {
     "name": "stdout",
     "output_type": "stream",
     "text": [
      "211977\n",
      "229015\n"
     ]
    }
   ],
   "source": [
    "df['CASE_ID'].nunique()\n",
    "\n",
    "unique_values = df['CASE_PARTICIPANT_ID'].unique()\n",
    "print(len(unique_values))\n",
    "\n",
    "counter = 0\n",
    "seen = set()\n",
    "for x in df['CHARGE_ID']:\n",
    "    if x not in seen: \n",
    "        counter = counter + 1\n",
    "        seen.add(x) \n",
    "print(counter)"
   ]
  },
  {
   "cell_type": "code",
   "execution_count": null,
   "metadata": {},
   "outputs": [],
   "source": [
    "# Why more ppl than cases?\n",
    "    # there can be a lot of people involved in one case\n",
    "    # multiple people can belong to the same case (don't have to have an individual case for each person)\n",
    "# Why more charges than ppl?\n",
    "    # can be charged for multiple cases"
   ]
  },
  {
   "cell_type": "code",
   "execution_count": 7,
   "metadata": {},
   "outputs": [
    {
     "name": "stdout",
     "output_type": "stream",
     "text": [
      "1.1594580774507768\n",
      "1.0\n",
      "1.1261457610967227\n",
      "1.0\n"
     ]
    },
    {
     "ename": "KeyError",
     "evalue": "'case_participant_id'",
     "output_type": "error",
     "traceback": [
      "\u001b[1;31m---------------------------------------------------------------------------\u001b[0m",
      "\u001b[1;31mKeyError\u001b[0m                                  Traceback (most recent call last)",
      "Cell \u001b[1;32mIn[7], line 30\u001b[0m\n\u001b[0;32m     27\u001b[0m         \u001b[38;5;28mprint\u001b[39m(\u001b[38;5;124m\"\u001b[39m\u001b[38;5;124mNo participants are involved in multiple cases.\u001b[39m\u001b[38;5;124m\"\u001b[39m)\n\u001b[0;32m     29\u001b[0m \u001b[38;5;66;03m# Example usage\u001b[39;00m\n\u001b[1;32m---> 30\u001b[0m check_participant_id_usage(df)\n",
      "Cell \u001b[1;32mIn[7], line 18\u001b[0m, in \u001b[0;36mcheck_participant_id_usage\u001b[1;34m(dataframe)\u001b[0m\n\u001b[0;32m     16\u001b[0m \u001b[38;5;28;01mdef\u001b[39;00m \u001b[38;5;21mcheck_participant_id_usage\u001b[39m(dataframe):\n\u001b[0;32m     17\u001b[0m     \u001b[38;5;66;03m# Group by case_participant_id and count unique cases per participant\u001b[39;00m\n\u001b[1;32m---> 18\u001b[0m     participant_case_counts \u001b[38;5;241m=\u001b[39m dataframe\u001b[38;5;241m.\u001b[39mgroupby(\u001b[38;5;124m'\u001b[39m\u001b[38;5;124mcase_participant_id\u001b[39m\u001b[38;5;124m'\u001b[39m)[\u001b[38;5;124m'\u001b[39m\u001b[38;5;124mCASE_ID\u001b[39m\u001b[38;5;124m'\u001b[39m]\u001b[38;5;241m.\u001b[39mnunique()\u001b[38;5;241m.\u001b[39mreset_index()\n\u001b[0;32m     20\u001b[0m     \u001b[38;5;66;03m# Filter for case_participant_ids that appear in more than one unique CASE_ID\u001b[39;00m\n\u001b[0;32m     21\u001b[0m     multiple_cases \u001b[38;5;241m=\u001b[39m participant_case_counts[participant_case_counts[\u001b[38;5;124m'\u001b[39m\u001b[38;5;124mCASE_ID\u001b[39m\u001b[38;5;124m'\u001b[39m] \u001b[38;5;241m>\u001b[39m \u001b[38;5;241m1\u001b[39m]\n",
      "File \u001b[1;32m~\\anaconda4\\Lib\\site-packages\\pandas\\core\\frame.py:9183\u001b[0m, in \u001b[0;36mDataFrame.groupby\u001b[1;34m(self, by, axis, level, as_index, sort, group_keys, observed, dropna)\u001b[0m\n\u001b[0;32m   9180\u001b[0m \u001b[38;5;28;01mif\u001b[39;00m level \u001b[38;5;129;01mis\u001b[39;00m \u001b[38;5;28;01mNone\u001b[39;00m \u001b[38;5;129;01mand\u001b[39;00m by \u001b[38;5;129;01mis\u001b[39;00m \u001b[38;5;28;01mNone\u001b[39;00m:\n\u001b[0;32m   9181\u001b[0m     \u001b[38;5;28;01mraise\u001b[39;00m \u001b[38;5;167;01mTypeError\u001b[39;00m(\u001b[38;5;124m\"\u001b[39m\u001b[38;5;124mYou have to supply one of \u001b[39m\u001b[38;5;124m'\u001b[39m\u001b[38;5;124mby\u001b[39m\u001b[38;5;124m'\u001b[39m\u001b[38;5;124m and \u001b[39m\u001b[38;5;124m'\u001b[39m\u001b[38;5;124mlevel\u001b[39m\u001b[38;5;124m'\u001b[39m\u001b[38;5;124m\"\u001b[39m)\n\u001b[1;32m-> 9183\u001b[0m \u001b[38;5;28;01mreturn\u001b[39;00m DataFrameGroupBy(\n\u001b[0;32m   9184\u001b[0m     obj\u001b[38;5;241m=\u001b[39m\u001b[38;5;28mself\u001b[39m,\n\u001b[0;32m   9185\u001b[0m     keys\u001b[38;5;241m=\u001b[39mby,\n\u001b[0;32m   9186\u001b[0m     axis\u001b[38;5;241m=\u001b[39maxis,\n\u001b[0;32m   9187\u001b[0m     level\u001b[38;5;241m=\u001b[39mlevel,\n\u001b[0;32m   9188\u001b[0m     as_index\u001b[38;5;241m=\u001b[39mas_index,\n\u001b[0;32m   9189\u001b[0m     sort\u001b[38;5;241m=\u001b[39msort,\n\u001b[0;32m   9190\u001b[0m     group_keys\u001b[38;5;241m=\u001b[39mgroup_keys,\n\u001b[0;32m   9191\u001b[0m     observed\u001b[38;5;241m=\u001b[39mobserved,\n\u001b[0;32m   9192\u001b[0m     dropna\u001b[38;5;241m=\u001b[39mdropna,\n\u001b[0;32m   9193\u001b[0m )\n",
      "File \u001b[1;32m~\\anaconda4\\Lib\\site-packages\\pandas\\core\\groupby\\groupby.py:1329\u001b[0m, in \u001b[0;36mGroupBy.__init__\u001b[1;34m(self, obj, keys, axis, level, grouper, exclusions, selection, as_index, sort, group_keys, observed, dropna)\u001b[0m\n\u001b[0;32m   1326\u001b[0m \u001b[38;5;28mself\u001b[39m\u001b[38;5;241m.\u001b[39mdropna \u001b[38;5;241m=\u001b[39m dropna\n\u001b[0;32m   1328\u001b[0m \u001b[38;5;28;01mif\u001b[39;00m grouper \u001b[38;5;129;01mis\u001b[39;00m \u001b[38;5;28;01mNone\u001b[39;00m:\n\u001b[1;32m-> 1329\u001b[0m     grouper, exclusions, obj \u001b[38;5;241m=\u001b[39m get_grouper(\n\u001b[0;32m   1330\u001b[0m         obj,\n\u001b[0;32m   1331\u001b[0m         keys,\n\u001b[0;32m   1332\u001b[0m         axis\u001b[38;5;241m=\u001b[39maxis,\n\u001b[0;32m   1333\u001b[0m         level\u001b[38;5;241m=\u001b[39mlevel,\n\u001b[0;32m   1334\u001b[0m         sort\u001b[38;5;241m=\u001b[39msort,\n\u001b[0;32m   1335\u001b[0m         observed\u001b[38;5;241m=\u001b[39m\u001b[38;5;28;01mFalse\u001b[39;00m \u001b[38;5;28;01mif\u001b[39;00m observed \u001b[38;5;129;01mis\u001b[39;00m lib\u001b[38;5;241m.\u001b[39mno_default \u001b[38;5;28;01melse\u001b[39;00m observed,\n\u001b[0;32m   1336\u001b[0m         dropna\u001b[38;5;241m=\u001b[39m\u001b[38;5;28mself\u001b[39m\u001b[38;5;241m.\u001b[39mdropna,\n\u001b[0;32m   1337\u001b[0m     )\n\u001b[0;32m   1339\u001b[0m \u001b[38;5;28;01mif\u001b[39;00m observed \u001b[38;5;129;01mis\u001b[39;00m lib\u001b[38;5;241m.\u001b[39mno_default:\n\u001b[0;32m   1340\u001b[0m     \u001b[38;5;28;01mif\u001b[39;00m \u001b[38;5;28many\u001b[39m(ping\u001b[38;5;241m.\u001b[39m_passed_categorical \u001b[38;5;28;01mfor\u001b[39;00m ping \u001b[38;5;129;01min\u001b[39;00m grouper\u001b[38;5;241m.\u001b[39mgroupings):\n",
      "File \u001b[1;32m~\\anaconda4\\Lib\\site-packages\\pandas\\core\\groupby\\grouper.py:1043\u001b[0m, in \u001b[0;36mget_grouper\u001b[1;34m(obj, key, axis, level, sort, observed, validate, dropna)\u001b[0m\n\u001b[0;32m   1041\u001b[0m         in_axis, level, gpr \u001b[38;5;241m=\u001b[39m \u001b[38;5;28;01mFalse\u001b[39;00m, gpr, \u001b[38;5;28;01mNone\u001b[39;00m\n\u001b[0;32m   1042\u001b[0m     \u001b[38;5;28;01melse\u001b[39;00m:\n\u001b[1;32m-> 1043\u001b[0m         \u001b[38;5;28;01mraise\u001b[39;00m \u001b[38;5;167;01mKeyError\u001b[39;00m(gpr)\n\u001b[0;32m   1044\u001b[0m \u001b[38;5;28;01melif\u001b[39;00m \u001b[38;5;28misinstance\u001b[39m(gpr, Grouper) \u001b[38;5;129;01mand\u001b[39;00m gpr\u001b[38;5;241m.\u001b[39mkey \u001b[38;5;129;01mis\u001b[39;00m \u001b[38;5;129;01mnot\u001b[39;00m \u001b[38;5;28;01mNone\u001b[39;00m:\n\u001b[0;32m   1045\u001b[0m     \u001b[38;5;66;03m# Add key to exclusions\u001b[39;00m\n\u001b[0;32m   1046\u001b[0m     exclusions\u001b[38;5;241m.\u001b[39madd(gpr\u001b[38;5;241m.\u001b[39mkey)\n",
      "\u001b[1;31mKeyError\u001b[0m: 'case_participant_id'"
     ]
    }
   ],
   "source": [
    "charges_per_case = df.groupby('CASE_ID')['CHARGE_ID'].nunique()\n",
    "charges_per_participant = df.groupby('CASE_PARTICIPANT_ID')['CHARGE_ID'].nunique()\n",
    "\n",
    "mean_charges_per_case = charges_per_case.mean()\n",
    "median_charges_per_case = charges_per_case.median()\n",
    "\n",
    "mean_charges_per_participant = charges_per_participant.mean()\n",
    "median_charges_per_participant = charges_per_participant.median()\n",
    "\n",
    "print(mean_charges_per_case)\n",
    "print(median_charges_per_case)\n",
    "print(mean_charges_per_participant)\n",
    "print(median_charges_per_participant)\n",
    "\n",
    "# Group by case_participant_id and count the number of unique CASE_IDs for each\n",
    "def check_participant_id_usage(dataframe):\n",
    "    # Group by case_participant_id and count unique cases per participant\n",
    "    participant_case_counts = dataframe.groupby('case_participant_id')['CASE_ID'].nunique().reset_index()\n",
    "\n",
    "    # Filter for case_participant_ids that appear in more than one unique CASE_ID\n",
    "    multiple_cases = participant_case_counts[participant_case_counts['CASE_ID'] > 1]\n",
    "\n",
    "    if not multiple_cases.empty:\n",
    "        print(f\"Found {len(multiple_cases)} participants involved in multiple cases.\")\n",
    "        print(multiple_cases)\n",
    "    else:\n",
    "        print(\"No participants are involved in multiple cases.\")\n",
    "\n",
    "# Example usage\n",
    "check_participant_id_usage(df)\n"
   ]
  },
  {
   "cell_type": "code",
   "execution_count": null,
   "metadata": {},
   "outputs": [],
   "source": [
    "# if the case_identifier_ID is unique to every single person, it would be easy to track them. \n",
    "# however, if it's dependent upon the case (and thus changes with each case), it wouldn't be a reliable indicator\n",
    "\n",
    "# it looks like the case_identfier_ID is the same but it's the type of charges that is different, so i feel like it could very well be the same person given how the ID is the same "
   ]
  },
  {
   "cell_type": "markdown",
   "metadata": {},
   "source": [
    "## 1.2.1: Which offense is final? (3 points)\n",
    "\n",
    "- First, read the data documentation [link](https://datacatalog.cookcountyil.gov/api/views/tg8v-tm6u/files/8597cdda-f7e1-44d1-b0ce-0a4e43f8c980?download=true&filename=CCSAO%20Data%20Glossary.pdf) and summarize in your own words the differences between `OFFENSE_CATEGORY` and `UPDATED_OFFENSE_CATEGORY` \n",
    "\n",
    "- Construct an indicator `is_changed_offense` that's True for case-participant-charge observations (rows) where there's a difference between the original charge (offense category) and the most current charge (updated offense category). What are some of the more common changed offenses? (can just print result of sort_values based on original offense category)\n",
    "\n",
    "- Print one example of a changed offense from one of these categories and comment on what the reason may be\n"
   ]
  },
  {
   "cell_type": "code",
   "execution_count": null,
   "metadata": {},
   "outputs": [],
   "source": [
    "# the OFFENSE_CATEGORY is the type of offense you're initially charged with; \n",
    "# UPDATED_OFFENSE_CATEGORY is the type of offense you're ultimately sentenced with \n",
    "# initial vs end result"
   ]
  },
  {
   "cell_type": "code",
   "execution_count": 162,
   "metadata": {},
   "outputs": [
    {
     "name": "stdout",
     "output_type": "stream",
     "text": [
      "OFFENSE_CATEGORY\n",
      "PROMIS Conversion               6394\n",
      "DUI                             3896\n",
      "UUW - Unlawful Use of Weapon    2155\n",
      "Other Offense                   2125\n",
      "Aggravated Battery              1927\n",
      "                                ... \n",
      "Perjury                            4\n",
      "Prostitution                       3\n",
      "Compelling Gang Membership         2\n",
      "Violate Bail Bond                  2\n",
      "Benefit Recipient Fraud            2\n",
      "Length: 88, dtype: int64\n"
     ]
    }
   ],
   "source": [
    "# make the indicator\n",
    "df[\"is_changed_offense\"] = df[\"OFFENSE_CATEGORY\"] != df[\"UPDATED_OFFENSE_CATEGORY\"]\n",
    "\n",
    "# filtering from day 2 google slides\n",
    "changed_offenses = df[df[\"is_changed_offense\"]]\n",
    "\n",
    "# sort the values \n",
    "common_changed_offenses = changed_offenses.groupby(\"OFFENSE_CATEGORY\").size().sort_values(ascending=False)\n",
    "\n",
    "# most common \n",
    "print(common_changed_offenses)\n"
   ]
  },
  {
   "cell_type": "code",
   "execution_count": 117,
   "metadata": {},
   "outputs": [
    {
     "name": "stdout",
     "output_type": "stream",
     "text": [
      "        CASE_ID  CASE_PARTICIPANT_ID          RECEIVED_DATE  \\\n",
      "0  149765331439         175691153649  8/15/1984 12:00:00 AM   \n",
      "\n",
      "    OFFENSE_CATEGORY  PRIMARY_CHARGE_FLAG    CHARGE_ID  CHARGE_VERSION_ID  \\\n",
      "0  PROMIS Conversion                False  50510112469       116304211997   \n",
      "\n",
      "  DISPOSITION_CHARGED_OFFENSE_TITLE  CHARGE_COUNT        DISPOSITION_DATE  \\\n",
      "0               FIRST DEGREE MURDER             2  12/17/2014 12:00:00 AM   \n",
      "\n",
      "   ...   INCIDENT_BEGIN_DATE INCIDENT_END_DATE LAW_ENFORCEMENT_AGENCY  \\\n",
      "0  ...  8/9/1984 12:00:00 AM               NaN    CHICAGO POLICE DEPT   \n",
      "\n",
      "  LAW_ENFORCEMENT_UNIT            ARREST_DATE      FELONY_REVIEW_DATE  \\\n",
      "0                  NaN  8/15/1984 12:00:00 AM  08/15/1984 12:00:00 AM   \n",
      "\n",
      "  FELONY_REVIEW_RESULT       ARRAIGNMENT_DATE UPDATED_OFFENSE_CATEGORY  \\\n",
      "0   Charge(S) Approved  9/21/1984 12:00:00 AM                 Homicide   \n",
      "\n",
      "  is_changed_offense  \n",
      "0               True  \n",
      "\n",
      "[1 rows x 42 columns]\n"
     ]
    }
   ],
   "source": [
    "example = changed_offenses[changed_offenses[\"OFFENSE_CATEGORY\"] == common_changed_offenses.index[0]].head(1)\n",
    "# is it the first row\n",
    "\n",
    "print(example)"
   ]
  },
  {
   "cell_type": "markdown",
   "metadata": {},
   "source": [
    "## 1.2.2: Simplifying the charges (5 points)\n",
    "\n",
    "Using the field (`UPDATED_OFFENSE_CATEGORY`), create a new field, `simplified_offense_derived`, that simplifies the many offense categories into broader buckets using the following process:\n",
    "\n",
    "First, combine all offenses beginning with \"Aggravated\" into a single category without that prefix (e.g., Aggravated Battery and Battery just becomes Battery)\n",
    "\n",
    "Then:\n",
    "- Combine all offenses with arson into a single arson category (`Arson`)\n",
    "- Combine all offenses with homicide into a single homicide category (`Homicide`)\n",
    "- Combine all offenses with vehicle/vehicular in the name into a single vehicle category (`Vehicle-related`)\n",
    "- Combine all offenses with battery in the name into a single battery category (`Battery`)\n",
    "\n",
    "Try to do so efficiently (e.g., using map and a dictionary or np.select rather than separate line for each recoded offense)\n",
    "\n",
    "Print the difference between the # of unique offenses in the original `UPDATED_OFFENSE_CATEGORY` field and the # of unique offenses in your new `simplified_offense_derived` field\n"
   ]
  },
  {
   "cell_type": "code",
   "execution_count": 306,
   "metadata": {},
   "outputs": [
    {
     "name": "stdout",
     "output_type": "stream",
     "text": [
      "['Homicide' 'PROMIS Conversion' 'Narcotics' 'Retail Theft' 'Other Offense'\n",
      " 'UUW - Unlawful Use of Weapon' 'Battery' 'Burglary' 'Sex Crimes'\n",
      " 'Fleeing and Eluding' 'DUI' 'Home Invasion' 'Attempt Armed Robbery'\n",
      " 'Arson' 'Theft' 'Driving With Suspended Or Revoked License'\n",
      " 'Identity Theft' 'Forgery' 'Robbery' 'Vehicle-related' 'Fraudulent ID'\n",
      " 'Criminal Damage to Property' 'Armed Robbery'\n",
      " 'Escape - Failure to Return' 'Fraud'\n",
      " 'Failure to Register as a Sex Offender' 'Discharge Firearm'\n",
      " 'Credit Card Cases' 'Kidnapping' 'Residential Burglary'\n",
      " 'Deceptive Practice' 'Violation Order Of Protection' 'Perjury'\n",
      " 'Possession of Contraband in Penal Institution' 'Bribery' 'Dog Fighting'\n",
      " 'Intimidation' 'Stalking' 'Pandering' 'Impersonating Police Officer'\n",
      " 'Child Abduction' 'Disarming Police Officer' 'Violate Bail Bond'\n",
      " 'Human Trafficking' 'Theft by Deception' 'Reckless Discharge of Firearm'\n",
      " 'Criminal Trespass To Residence' 'Child Pornography' 'Prostitution'\n",
      " 'Major Accidents' 'Gun Running' 'Assault Police Officer'\n",
      " 'Possession Of Burglary Tools' 'Violation of Sex Offender Registration'\n",
      " 'Armed Violence' 'Unlawful Restraint' 'Obstructing Justice'\n",
      " 'Official Misconduct' 'Bomb Threat' 'Hate Crimes' 'Tampering'\n",
      " 'Communicating With Witness' 'Gun - Non UUW' 'Possession of Explosives'\n",
      " 'Gambling']\n",
      "14\n"
     ]
    }
   ],
   "source": [
    "# slice aggravated off (so it's the first like 11 chars\n",
    "df['simplified_offense_derived'] = df['UPDATED_OFFENSE_CATEGORY'].apply(lambda x: x[11:] if x.startswith('Aggravated') else x)\n",
    "\n",
    "conditions = [\n",
    "    df['simplified_offense_derived'].str.contains('arson', case=False),           \n",
    "    df['simplified_offense_derived'].str.contains('homicide', case=False),      \n",
    "    df['simplified_offense_derived'].str.contains('vehicle|vehicular', case=False),\n",
    "    df['simplified_offense_derived'].str.contains('battery', case=False)         \n",
    "]\n",
    "\n",
    "choices = [\n",
    "    'Arson',             \n",
    "    'Homicide',         \n",
    "    'Vehicle-related',   \n",
    "    'Battery'           \n",
    "]\n",
    "\n",
    "df['simplified_offense_derived'] = np.select(conditions, choices, default=df['simplified_offense_derived'])\n",
    "unique_original = df['UPDATED_OFFENSE_CATEGORY'].nunique()\n",
    "unique_simplified = df['simplified_offense_derived'].nunique()\n",
    "\n",
    "print(unique_original - unique_simplified)"
   ]
  },
  {
   "cell_type": "markdown",
   "metadata": {},
   "source": [
    "## 1.3: Cleaning additional variables (10 points)\n",
    "\n",
    "Clean the following variables; make sure to retain the original variable in data and use the derived suffix so it's easier to pull these cleaned out variables later (e.g., `age_derived`) to indicate this was a transformation\n",
    "\n",
    "- Race: create True/false indicators for `is_black_derived` (Black only or mixed race with hispanic), Non-Black Hispanic, so either hispanic alone or white hispanic (`is_hisp_derived`), White non-hispanic (`is_white_derived`), or none of the above (`is_othereth_derived`)\n",
    "\n",
    "- Gender: create a boolean true/false indicator for `is_male_derived` (false is female, unknown, or other)\n",
    "\n",
    "- Age at incident: you notice outliers like 130-year olds. Winsorsize the top 0.01% of values to be equal to the 99.99th percentile value pre-winsorization. Call this `age_derived`\n",
    "\n",
    "- Create `sentenceymd_derived` that's a version of `SENTENCING_DATE` converted to datetime format. Also create a rounded version, `sentenceym_derived`, that's rounded down to the first of the month and the year (e.g., 01-05-2016 and 01-27-2016 each become 01-01-2016)\n",
    "    - Hint: all timestamps are midnight so u can strip in conversion. For full credit, before converting, you notice that some of the years have been mistranscribed (e.g., 291X or 221X instead of 201X). Programatically fix those (eg 2914 -> 2014). Even after cleaning, there will still be some that are after the year 2021 that we'll filter out later. For partial credit, you can ignore the timestamps that cause errors and set errors = \"coerce\" within `pd.to_datetime()` to allow the conversion to proceed. \n",
    "\n",
    "- Sentencing judge: create an identifier (`judgeid_derived`) for each unique judge (`SENTENCE_JUDGE`) structured as judge_1, judge_2...., with the order determined by sorting the judges (will sort on fname then last). When finding unique judges, there are various duplicates we could weed out --- for now, just focus on (1) the different iterations of Doug/Douglas Simpson, (2) the different iterations of Shelley Sutker (who appears both with her maiden name and her hyphenated married name). \n",
    "     - Hint: due to mixed types, you may need to cast the `SENTENCE_JUDGE` var to a diff type to sort\n",
    "\n",
    "After finishing, print a random sample of 10 rows (data.sample(n = 10)) with the original and cleaned columns for the relevant variables to validate your work"
   ]
  },
  {
   "cell_type": "code",
   "execution_count": 13,
   "metadata": {},
   "outputs": [
    {
     "name": "stderr",
     "output_type": "stream",
     "text": [
      "C:\\Users\\shoai\\AppData\\Local\\Temp\\ipykernel_35392\\2123006019.py:17: UserWarning: Could not infer format, so each element will be parsed individually, falling back to `dateutil`. To ensure parsing is consistent and as-expected, please specify a format.\n",
      "  df['sentenceymd_derived'] = pd.to_datetime(df['SENTENCE_DATE'])\n"
     ]
    },
    {
     "data": {
      "text/plain": [
       "array(['John  Mannion', 'Clayton Jay Crane', 'James L Rhodes',\n",
       "       'Thomas V Gainer', 'Kay M Hanlon', 'William J Kunkle',\n",
       "       'Evelyn B Clay', 'Timothy Joseph Joyce', 'Steven J Goebel',\n",
       "       'Carol M Howard', 'Lawrence Edward Flood', 'Thomas R Sumner',\n",
       "       'William H Hooks', 'Maura  Slattery Boyle',\n",
       "       'Christopher J Donnelly', 'Thaddeus L Wilson', 'Michael P Toomin',\n",
       "       'Sharon M Sullivan', 'Thomas P Fecarotta', 'Matthew E Coghlan',\n",
       "       'Joseph Michael Claps', 'James R Epstein', 'Jorge Luis Alonso',\n",
       "       'Kenneth J Wadas', 'Catherine Marie Haberkorn',\n",
       "       'Vincent M Gaughan', 'Thomas M Davy', \"James N O'Hara\",\n",
       "       'Raymond  Myles', \"Joan Margaret O'Brien\", 'Michele M Pitman',\n",
       "       'John Joseph Hynes', 'Charles P Burns', 'James B Linn',\n",
       "       'Arthur F Hill', 'Kevin M Sheehan', 'Diane Gordon Cannon',\n",
       "       'Neera  Walsh', 'Dennis J Porter', 'Thomas M Tucker',\n",
       "       'Timothy J Chambers', 'William G Lacy', 'Joseph G Kazmierski',\n",
       "       'Erica L Reddick', 'Thomas J Hennelly', 'John J Moran',\n",
       "       'Carl B Boyd', 'Nicholas R Ford', 'Shelley Sutker-Dermer',\n",
       "       'Luciano  Panici', 'Earl B Hoffenberg', 'William G Gamboney',\n",
       "       'Fred  Suria', 'Lauren Gottainer Edidin', 'Brian K Flaherty', nan,\n",
       "       'Bridget Jane Hughes', 'Lon William Shultz', \"William T O'Brien\",\n",
       "       'Colleen Ann Hyland', 'Carol A Kipperman',\n",
       "       'Mary Margaret Brosnahan', 'Alfredo  Maldonado', 'Allen F Murphy',\n",
       "       'Geary W Kull', 'Gilbert J Grossi', 'Noreen Valeria Love',\n",
       "       'Maurice  Pompey', 'Garritt E Howard', 'Domenica A Stephenson',\n",
       "       'Stuart E Palmer', 'Rickey  Jones', 'Donald  Lowery',\n",
       "       'Mary C Roberts', 'Stanley  Sacks', 'Michael  Brown',\n",
       "       'Reginald H Baker', 'Dennis A Dernbach', 'James Michael Obbish',\n",
       "       'Rosemary Grant Higgins', 'Larry G Axelrood',\n",
       "       'C  Mc Sweeney-Moore', 'Janet Adams Brosnahan', 'URSULA  WALOWSKI',\n",
       "       'Kathleen M Pantle', 'Michael J Howlett', 'Frank G Zelezinski',\n",
       "       \"Thomas J O'Hara\", 'Lawrence P Fox', 'Marc W Martin',\n",
       "       'Angela Munari Petrone', 'Marcus R Salone', 'Pamela A Leeming',\n",
       "       'Neil J Linehan', 'Laura M Sullivan', 'Kerry M Kennedy',\n",
       "       'John A Wasilewski', 'William H Wise', 'Byrne, Thomas',\n",
       "       'Gregory Robert Ginex', 'Maria  Kuriakos Ciesil',\n",
       "       'Joseph  Cataldo', 'Michael J Hood', 'ELLEN  MANDELTORT',\n",
       "       'James D Egan', 'Jill  Cerone-Marisie', 'Anna Helen Demacopoulos',\n",
       "       'Paula M Daleo', 'Jeffrey L Warnick', 'Patrick  Coughlin',\n",
       "       'Aleksandra  Gillespie', 'J  HYNES', 'John P Kirby',\n",
       "       'Peggy  Chiampas', 'John J Scotillo', 'James N Karahalios',\n",
       "       'Ramon  Ocasio', 'James M Schreier', 'Paul S Pavlus',\n",
       "       'Hyman I Riebman', 'Tommy  Brewer', 'L  Terrell',\n",
       "       'Robert J Clifford', 'Darron Edward Bowden', 'Douglas J Simpson',\n",
       "       'Michael  Kane', 'Victoria A Stewart', 'Carmen  Aguilar',\n",
       "       'John T Doody', 'Frank  Castiglione', 'FLOOD', 'Michael B McHale',\n",
       "       'Ronald S Davis', 'Kathleen Ann Panozzo', 'Martin D Coghlan',\n",
       "       'James R Brown', 'Stephen J Connolly', 'Thomas Paul Panichi',\n",
       "       \"Geraldine A D'Souza\", 'Colleen F Sheehan', 'Stanley  Hill',\n",
       "       'Joel L Greenblatt', 'Bertina E Lampkin', 'Ricky  Jones',\n",
       "       'Henry R Simmons', 'Colleen Mcsweeney Moore', 'Thomas J Condon',\n",
       "       'Thomas J Carroll', 'Jeanne Marie Reynolds', 'Robert E Senechalle',\n",
       "       'James P Etchingham', 'Annie  ODONNELL', 'Romie  Palmer',\n",
       "       'Joan  Corboy', 'James J Heyda', 'Daniel  Kelley', 'Marcia B Orr',\n",
       "       'Thomas P Cawley', 'Daniel E Jordan', 'James A Condon',\n",
       "       'Michael B Bolan', 'Paul J Nealis', 'Ralph  Reyna',\n",
       "       'Gerald T Rohrer', 'Edwin A Gausselin', 'John  Brady', 'Leo  Holt',\n",
       "       'Kenneth L Fletcher', 'James  Moran', 'William  Prendergast',\n",
       "       'David  Linn', 'Mary Maxwell Thomas', 'Preston  Bowie',\n",
       "       'William  Raines', 'Curtis  Heaston', 'Steven J Rosenblum',\n",
       "       'Steven M Wagner', 'Jackie  Portman', 'John D Tourtelot',\n",
       "       'Gregory Paul Vazquez', 'Raymond L Jagielski',\n",
       "       'Donna  Phelps Felton', 'Neil  Cohen', 'James J Gavin',\n",
       "       'Kenworthy, Diana', 'Kristyna C Ryan', 'Anthony John Calabrese',\n",
       "       'Kathleen Marie Burke', 'Joseph J Urso', 'Michelle D Jordan',\n",
       "       'Michael B Hyman', 'Anne  Collins', 'Alfred L Levinson',\n",
       "       'Melvin J Cole', 'Richard Anthony Stevens', 'Edward S Harmening',\n",
       "       'Margarita T Kulys Hoffman', 'Gloria  Chevere',\n",
       "       'James Patrick Murphy', \"Patrick W O'Brien\",\n",
       "       'Laura  Bertucci Smith', 'Martin S Agran', 'Marvin P Luckman',\n",
       "       'Edmund  Ponce De Leon', 'Terence Blair Smith', 'John D Turner',\n",
       "       'Anthony C Kyriakopoulos', 'Lee  Preston', 'Araujo, Mauricio',\n",
       "       'Yolande M Bourgeois', 'Ann  Houser', 'Sheila  McGinnis',\n",
       "       'Kate  Moreland', 'Thomas W Murphy', 'Adam Donald Bourgeois',\n",
       "       'Eileen M Brewer', 'Walter  Williams', 'Sidney A Jones',\n",
       "       'Peter  Flynn', 'Thomas J Kelley', 'Jim  Ryan', 'Ketki  Steffan',\n",
       "       'Steven G Watkins', 'Anjana  Hansen', 'John B Grogan',\n",
       "       'Susan  Sullivan', 'Themis N Karnezis', 'Anthony A Iosco',\n",
       "       'Adrienne  Davis', 'Donald R Havis', 'Mary Ellen Coghlan',\n",
       "       'James P Flannery', 'William O Maki', 'Dorothy Kirie Kinnaird',\n",
       "       'Terence  MacCarthy', 'William Stewart Boyd',\n",
       "       'Claudia Grace Conlon', 'Tiana  Blakely', 'Raul  Vega',\n",
       "       'Maureen E Connors', 'Daniel  Gallagher',\n",
       "       'Anita  Rivkin-Carothers', 'Sandra  Ramos', 'Casandra  Lewis',\n",
       "       'Grace G Dickler', 'Frank  Deboni', 'Michael  Clancy',\n",
       "       'Carol Pearce McCarthy', 'Richard E Schwind', 'John  Mahoney',\n",
       "       'William B Raines', 'James W Kennedy', \"Gregory M O'Brien\",\n",
       "       'Michael  Mullen', 'David A Skryd', \"Donald J O'Brien\",\n",
       "       'Richard J Billik', 'Carolyn  Quinn', \"Sheila M O'Brien\",\n",
       "       'Darryl B Simko', 'James P McCarthy', \"Karen L O'Malley\",\n",
       "       'Dorothy F Jones', 'Matthew  Carmody', 'Patrick  Rogers',\n",
       "       'Camille E Willis', 'Maryam  Ahmad', 'Cheyrl D Ingram',\n",
       "       'Candace Jean Fabri', 'Martin C Kelley', 'Leroy K Martin',\n",
       "       'Marya  Nega', 'Eulalia V. De La Rosa', 'Sebastian T Patti',\n",
       "       'Susana L Ortiz', 'Daniel J Sullivan', 'Shauna L Boliker',\n",
       "       'Kathleen G Kennedy', 'James A Zafiratos', 'Gunning  Hobart',\n",
       "       'Daniel J Pierce', 'Margaret A Brennan', 'Robert  Cahill',\n",
       "       'Martin Paul Moltz', 'Sophia  Atcherson', 'Elizabeth  Hayes',\n",
       "       'Michael J Gallagher', 'Kevin T Lee', 'Samuel J Betar',\n",
       "       'Peter A Felice', 'Vincenzo  Chimera', 'Linzey  Jones',\n",
       "       'Megan  Goldish', 'John Owen Steele', 'Joyce Marie Murphy Gorman',\n",
       "       'Loretta  Eadie-Daniels', 'Carl Anthony Walker',\n",
       "       'Lisette Catherine Mojica', 'Mohammed  Ghouse',\n",
       "       'Stephanie  Miller', 'Gregory J Wojkowski', 'Daniel E Maloney',\n",
       "       'Pamela G Karahalios', 'Susan J McDunn', 'Beatriz  Santiago',\n",
       "       'Donald D Panarese', 'Joanne  Rosado', 'David  Navarro',\n",
       "       'Litricia P Payne', 'Mary C Marubio', 'Kevin P Cunningham',\n",
       "       'John  Fotopoulos', 'Laguina  Clay-Clark', 'Edward  Maloney',\n",
       "       'Demetrios G Kottaras', 'Pamela E. Hill Veal', 'Callie Lynn Baird',\n",
       "       'Richard F Walsh', 'Peter M. Gonzalez', 'David  Delgado',\n",
       "       'Daniel  Peters', 'Robert  Kuzas', 'Richard A Kavitt',\n",
       "       'Vanessa A Hopkins', 'Jeanine  Wrenn', 'Gerardo  Tristan',\n",
       "       'Edward A Antonietti', 'Margaret  Ogarek', 'Michael P Gerber',\n",
       "       'Jeffrey A Malak', 'Peter J Vilkelis', 'Elizabeth  Ciaccia-Lezza',\n",
       "       'Marianne  Jackson', 'Tyria B Walton', 'William G Pileggi',\n",
       "       'Nancy J Katz', 'Thomas F McGuire'], dtype=object)"
      ]
     },
     "execution_count": 13,
     "metadata": {},
     "output_type": "execute_result"
    },
    {
     "name": "stdout",
     "output_type": "stream",
     "text": [
      "                              RACE  is_black_derived  is_hisp_derived  \\\n",
      "146115                       Black              True            False   \n",
      "4334                      HISPANIC             False             True   \n",
      "228696                       Black              True            False   \n",
      "97796                        White             False            False   \n",
      "218525                       Black              True            False   \n",
      "181675                       Black              True            False   \n",
      "193527  White [Hispanic or Latino]             False             True   \n",
      "134911                       Black              True            False   \n",
      "42667                        Black              True            False   \n",
      "132773                       Black              True            False   \n",
      "\n",
      "        is_white_derived  is_othereth_derived  GENDER  is_male_derived  \\\n",
      "146115             False                False    Male             True   \n",
      "4334               False                False    Male             True   \n",
      "228696             False                False    Male             True   \n",
      "97796               True                False  Female            False   \n",
      "218525             False                False    Male             True   \n",
      "181675             False                False    Male             True   \n",
      "193527             False                False    Male             True   \n",
      "134911             False                False    Male             True   \n",
      "42667              False                False    Male             True   \n",
      "132773             False                False    Male             True   \n",
      "\n",
      "        AGE_AT_INCIDENT  age_derived           SENTENCE_DATE  \\\n",
      "146115             32.0         32.0   7/19/2016 12:00:00 AM   \n",
      "4334               34.0         34.0   8/27/2012 12:00:00 AM   \n",
      "228696             43.0         43.0  10/29/2019 12:00:00 AM   \n",
      "97796              49.0         49.0   9/11/2013 12:00:00 AM   \n",
      "218525             23.0         23.0   3/22/2019 12:00:00 AM   \n",
      "181675             24.0         24.0   4/13/2017 12:00:00 AM   \n",
      "193527             19.0         19.0   6/15/2017 12:00:00 AM   \n",
      "134911             19.0         19.0  10/17/2014 12:00:00 AM   \n",
      "42667              36.0         36.0   9/22/2011 12:00:00 AM   \n",
      "132773             63.0         63.0   4/17/2015 12:00:00 AM   \n",
      "\n",
      "       sentenceymd_derived sentenceym_derived         SENTENCE_JUDGE  \\\n",
      "146115          2016-07-19         2016-07-01      Thaddeus L Wilson   \n",
      "4334            2012-08-27         2012-08-01         William G Lacy   \n",
      "228696          2019-10-29         2019-10-01         Stanley  Sacks   \n",
      "97796           2013-09-11         2013-09-01       Garritt E Howard   \n",
      "218525          2019-03-22         2019-03-01         Stanley  Sacks   \n",
      "181675          2017-04-13         2017-04-01  Angela Munari Petrone   \n",
      "193527          2017-06-15         2017-06-01   Gregory Robert Ginex   \n",
      "134911          2014-10-17         2014-10-01                    NaN   \n",
      "42667           2011-09-22         2011-09-01      Thaddeus L Wilson   \n",
      "132773          2015-04-17         2015-04-01      Thaddeus L Wilson   \n",
      "\n",
      "       judgeid_derived  \n",
      "146115       judge_297  \n",
      "4334         judge_328  \n",
      "228696       judge_284  \n",
      "97796         judge_90  \n",
      "218525       judge_284  \n",
      "181675         judge_7  \n",
      "193527       judge_101  \n",
      "134911       judge_337  \n",
      "42667        judge_297  \n",
      "132773       judge_297  \n"
     ]
    }
   ],
   "source": [
    "#Race \n",
    "df['is_black_derived'] = df.RACE.str.contains('Black', case=False, na=False)\n",
    "df['is_hisp_derived'] = df.RACE.str.contains('Hispanic', case=False, na=False) & ~df.RACE.str.contains('Black', case=False, na=False)\n",
    "df['is_white_derived'] = df.RACE.str.contains('White', case=False, na=False) & ~df.RACE.str.contains('Black', case=False, na=False) & ~df.RACE.str.contains('Hispanic', case=False, na=False)\n",
    "df['is_othereth_derived'] = ~df['is_black_derived'] & ~df['is_hisp_derived'] & ~df['is_white_derived']\n",
    "\n",
    "#Gender \n",
    "df['is_male_derived'] = df.GENDER.str.contains(r'\\bMale\\b', case=False, na=False, regex = True) \n",
    "\n",
    "#Age at Incident \n",
    "top_percentile = df.AGE_AT_INCIDENT.quantile(0.9999)\n",
    "df['age_derived'] = df.AGE_AT_INCIDENT.apply(lambda x: top_percentile if x>top_percentile else x)\n",
    "\n",
    "#Sentencing Date\n",
    "df.SENTENCE_DATE = df.SENTENCE_DATE.str.replace(\"291\", \"201\")\n",
    "df.SENTENCE_DATE = df.SENTENCE_DATE.str.replace(\"221\", \"201\")\n",
    "df['sentenceymd_derived'] = pd.to_datetime(df['SENTENCE_DATE'])\n",
    "df['sentenceym_derived'] = pd.to_datetime(df['sentenceymd_derived']).dt.to_period('M').dt.to_timestamp()\n",
    "\n",
    "#Sentencing Judge\n",
    "df.SENTENCE_JUDGE = df.SENTENCE_JUDGE.str.replace(\"Doug  Simpson\", \"Douglas J Simpson\")\n",
    "df.SENTENCE_JUDGE = df.SENTENCE_JUDGE.str.replace('Shelley  Sutker-Dermer', \"Shelley Sutker-Dermer\") \n",
    "df.SENTENCE_JUDGE = df.SENTENCE_JUDGE.str.replace('Shelley  Sutker', \"Shelley Sutker-Dermer\") \n",
    "sorted_judges = pd.Series(df.SENTENCE_JUDGE.unique()).sort_values()\n",
    "\n",
    "df.SENTENCE_JUDGE.unique()\n",
    "newdict = {}\n",
    "x = 1 \n",
    "for name in sorted_judges:\n",
    "    newdict[name] = 'judge_' + str(x)\n",
    "    x = x + 1 \n",
    "df['judgeid_derived'] = df['SENTENCE_JUDGE'].map(newdict)\n",
    "\n",
    "print(df.sample(n=10)[['RACE', 'is_black_derived', 'is_hisp_derived', 'is_white_derived', 'is_othereth_derived',\n",
    "                   'GENDER', 'is_male_derived', 'AGE_AT_INCIDENT', 'age_derived', \n",
    "                   'SENTENCE_DATE', 'sentenceymd_derived', 'sentenceym_derived', \n",
    "                   'SENTENCE_JUDGE', 'judgeid_derived']])"
   ]
  },
  {
   "cell_type": "markdown",
   "metadata": {},
   "source": [
    "## 1.4: Subsetting rows to analytic dataset (5 points)\n",
    "\n",
    "You decide based on the above to simplify things in the following ways:\n",
    "    \n",
    "- Subset to cases where only one participant is charged, since cases with >1 participant might have complications like \n",
    "plea bargains/informing from other participants affecting the sentencing of the focal participant\n",
    "\n",
    "- To go from a participant-case level dataset, where each participant is repeated across charges tied to the case, to a participant-level dataset, where each participant has one charge, subset to a participant's primary charge and their current sentence (`PRIMARY_CHARGE_FLAG` is True and `CURRENT_SENTENCE_FLAG` is True). Double check that this worked by confirming there are no longer multiple charges for the same case-participant\n",
    "\n",
    "- Filter out observations where judge is nan or nonsensical (indicated by is.null or equal to FLOOD)\n",
    "\n",
    "- Subset to sentencing date between 01-01-2012 and 04-05-2021 (inclusive)\n",
    "\n",
    "After completing these steps, print the number of rows in the data"
   ]
  },
  {
   "cell_type": "code",
   "execution_count": 382,
   "metadata": {},
   "outputs": [
    {
     "name": "stdout",
     "output_type": "stream",
     "text": [
      "152906\n"
     ]
    }
   ],
   "source": [
    "df.CASE_ID = df.CASE_ID.drop_duplicates(keep=False)\n",
    "\n",
    "df = df[(df['PRIMARY_CHARGE_FLAG'] == True) & (df['CURRENT_SENTENCE_FLAG'] == True)]\n",
    "\n",
    "df = df[~df['SENTENCE_JUDGE'].isnull() & (df['SENTENCE_JUDGE'] != 'FLOOD')]\n",
    "\n",
    "df = df[(df['sentenceymd_derived'] >= '2012-01-01') & (df['sentenceymd_derived'] <= '2021-04-05')]\n",
    "\n",
    "print(len(df))"
   ]
  },
  {
   "cell_type": "markdown",
   "metadata": {},
   "source": [
    "# Part two: investigating Black vs. White sentencing disparities\n",
    "\n",
    "Now that the data are cleaned, we're going to investigate different types of disparities in sentencing between Black defendants and White defendants. We're focusing on these groups for the purpose of the problem set, but the analysis could be extended to study Hispanic defendants or, in a different jurisdiction, Asian and other minoritized groups.\n",
    "\n",
    "**Details if interested in digging deeper**: If interested (optional), you can read more technical coverage of how we might (1) measure disparities, and (2) what factors you want to adjust for when deciding whether two defendants are 'similarly situated' but for their race in the following sources:\n",
    "\n",
    "- [Review of sentencing disparities research](https://www.journals.uchicago.edu/doi/full/10.1086/701505)\n",
    "- [Discussion of causal model/blinding race at charging stage of the prosecutorial process](https://5harad.com/papers/blind-charging.pdf)\n",
    "- [Discussion of measuring discrimination in policing that can generalize to the sentencing case](https://www.annualreviews.org/doi/abs/10.1146/annurev-criminol-011518-024731)\n",
    "- [General discussion of causal challenges in measuring between-group disparities](https://osf.io/preprints/socarxiv/gx4y3/)\n",
    "\n",
    "**One major caveat**: when investigating whether two similar defendants received different sentences, we're missing one important attribute that influences sentencing: the defendant's criminal history. This influences sentencing both through sentencing guidelines, which can prescribe longer sentences for those who have certain types of prior convictions, and through judicial discretion if judges are more lenient with first-time defendants. The above sources discuss how much we want to \"control away\" for this prior history, since if we think there are racial biases in which defendants, conditional on *committing* a crime, are arrested and charged, we may not want to adjust for that factor. More discussion [in this article](https://www.themarshallproject.org/2019/12/03/the-growing-racial-disparity-in-prison-time)\n"
   ]
  },
  {
   "cell_type": "markdown",
   "metadata": {},
   "source": [
    "## 2.0: (0 points)"
   ]
  },
  {
   "cell_type": "markdown",
   "metadata": {},
   "source": [
    "First, read in the following dataset (regardless of progress on part one): `sentencing_cleaned.pkl` (if you can't read in the pkl you can read in the .csv format but may need to recast some of the datetime columns)\n",
    "\n",
    "*Note*: don't worry if there are slight differences in your output from Part One and this dataset/it's not a good use of time to try to reverse engineer Part One answers from this cleaned data."
   ]
  },
  {
   "cell_type": "code",
   "execution_count": 15,
   "metadata": {},
   "outputs": [
    {
     "name": "stderr",
     "output_type": "stream",
     "text": [
      "C:\\Users\\shoai\\AppData\\Local\\Temp\\ipykernel_35392\\910369694.py:1: DtypeWarning: Columns (10,11,16,25) have mixed types. Specify dtype option on import or set low_memory=False.\n",
      "  df2 = sentencing_cleaned = pd.read_csv('sentencing_cleaned.csv')\n"
     ]
    }
   ],
   "source": [
    "df2 = sentencing_cleaned = pd.read_csv('sentencing_cleaned.csv')"
   ]
  },
  {
   "cell_type": "markdown",
   "metadata": {},
   "source": [
    "## 2.1: Investigating one type of between-group difference: who reaches the sentencing stage? (5 points)\n",
    "\n",
    "Tabulate and visualize the proportion of defendants, out of all defendants sentenced in a given month/year, who are Black and who are White (separate proportions)\n",
    "\n",
    "- Denominator is number of unique cases that month\n",
    "- Numerator for black defendants is count of is_black_derived\n",
    "- Numerator for white defendants is count of is_white_derived\n",
    "- Fraction of each is numerator/denominator\n",
    "\n",
    "- Print the table\n",
    "- Create a graph with two lines--- one for Black defendants as fraction of total; another for White defendants. Make sure it includes a legend summarizing which color is for which group, and clean the legend so that it has informative names (e.g., Black or White rather than prop_black or prop_white)\n",
    "- Use mathematical notation to write out each of the proportions using summation notation in a 1-2 sentence writeup describing trends. What seems to be going on in April and May 2020? \n",
    "\n",
    "**Optional challenge**: improve the viz by shading the background of the visualization for months with fewer than 100 cases \n",
    "\n",
    "**Optional challenge**: improve the viz by adding a vertical line for 12-01-2016, the month that new State's Attorney Foxx took office "
   ]
  },
  {
   "cell_type": "code",
   "execution_count": 19,
   "metadata": {},
   "outputs": [
    {
     "name": "stderr",
     "output_type": "stream",
     "text": [
      "C:\\Users\\shoai\\AppData\\Local\\Temp\\ipykernel_35392\\3379485252.py:5: UserWarning: Could not infer format, so each element will be parsed individually, falling back to `dateutil`. To ensure parsing is consistent and as-expected, please specify a format.\n",
      "  df2['sentenceymd_derived'] = pd.to_datetime(df2['SENTENCE_DATE'])\n"
     ]
    },
    {
     "name": "stdout",
     "output_type": "stream",
     "text": [
      "    sentenceym_derived  prop_black  prop_white\n",
      "0           2012-01-01    0.677419    0.144564\n",
      "1           2012-02-01    0.648966    0.160690\n",
      "2           2012-03-01    0.638958    0.158189\n",
      "3           2012-04-01    0.696379    0.146936\n",
      "4           2012-05-01    0.695146    0.144337\n",
      "..                 ...         ...         ...\n",
      "106         2020-11-01    0.606925    0.154786\n",
      "107         2020-12-01    0.646182    0.158287\n",
      "108         2021-01-01    0.621924    0.111857\n",
      "109         2021-02-01    0.651731    0.134420\n",
      "110         2021-03-01    0.680451    0.148496\n",
      "\n",
      "[111 rows x 3 columns]\n",
      "Maximum date in the data: 2021-03-01 00:00:00\n"
     ]
    },
    {
     "data": {
      "text/plain": [
       "<Figure size 1000x500 with 0 Axes>"
      ]
     },
     "execution_count": 19,
     "metadata": {},
     "output_type": "execute_result"
    },
    {
     "data": {
      "text/plain": [
       "[<matplotlib.lines.Line2D at 0x15fc02852e0>]"
      ]
     },
     "execution_count": 19,
     "metadata": {},
     "output_type": "execute_result"
    },
    {
     "data": {
      "text/plain": [
       "[<matplotlib.lines.Line2D at 0x15fc0b21d90>]"
      ]
     },
     "execution_count": 19,
     "metadata": {},
     "output_type": "execute_result"
    },
    {
     "data": {
      "text/plain": [
       "<matplotlib.lines.Line2D at 0x15fc05afce0>"
      ]
     },
     "execution_count": 19,
     "metadata": {},
     "output_type": "execute_result"
    },
    {
     "data": {
      "text/plain": [
       "<matplotlib.collections.PolyCollection at 0x15fc05aeba0>"
      ]
     },
     "execution_count": 19,
     "metadata": {},
     "output_type": "execute_result"
    },
    {
     "data": {
      "text/plain": [
       "Text(0.5, 1.0, 'Proportion of Black and White Defendants by Month/Year')"
      ]
     },
     "execution_count": 19,
     "metadata": {},
     "output_type": "execute_result"
    },
    {
     "data": {
      "text/plain": [
       "Text(0.5, 0, 'Date')"
      ]
     },
     "execution_count": 19,
     "metadata": {},
     "output_type": "execute_result"
    },
    {
     "data": {
      "text/plain": [
       "Text(0, 0.5, 'Proportion of Defendants')"
      ]
     },
     "execution_count": 19,
     "metadata": {},
     "output_type": "execute_result"
    },
    {
     "data": {
      "text/plain": [
       "<matplotlib.legend.Legend at 0x15fc0b237d0>"
      ]
     },
     "execution_count": 19,
     "metadata": {},
     "output_type": "execute_result"
    },
    {
     "data": {
      "image/png": "[encoded data removed]",
      "text/plain": [
       "<Figure size 1000x500 with 1 Axes>"
      ]
     },
     "metadata": {},
     "output_type": "display_data"
    }
   ],
   "source": [
    "import matplotlib.pyplot as plt \n",
    "df2.SENTENCE_DATE = df2.SENTENCE_DATE.str.replace(\"291\", \"201\")\n",
    "df2.SENTENCE_DATE = df2.SENTENCE_DATE.str.replace(\"221\", \"201\")\n",
    "df2.SENTENCE_DATE = df2.SENTENCE_DATE.str.replace(\"211\", \"201\")\n",
    "df2['sentenceymd_derived'] = pd.to_datetime(df2['SENTENCE_DATE'])\n",
    "df2['sentenceym_derived'] = pd.to_datetime(df2['sentenceymd_derived']).dt.to_period('M').dt.to_timestamp()\n",
    "\n",
    "raceviz = df2.groupby('sentenceym_derived').agg(\n",
    "    total_cases=('CASE_ID', 'nunique'),\n",
    "    black_defendants=('is_black_derived', 'sum'),\n",
    "    white_defendants=('is_white_derived', 'sum')\n",
    ").reset_index()\n",
    "\n",
    "raceviz['prop_black'] = raceviz['black_defendants'] / raceviz['total_cases']\n",
    "raceviz['prop_white'] = raceviz['white_defendants'] / raceviz['total_cases']\n",
    "\n",
    "print(raceviz[['sentenceym_derived', 'prop_black', 'prop_white']])\n",
    "\n",
    "max_date = df2['sentenceym_derived'].max()\n",
    "print(\"Maximum date in the data:\", max_date)\n",
    "\n",
    "plt.figure(figsize=(10, 5))\n",
    "\n",
    "plt.plot(raceviz['sentenceym_derived'], raceviz['prop_black'], label='Black Defendants Proportion', color='red')\n",
    "\n",
    "plt.plot(raceviz['sentenceym_derived'], raceviz['prop_white'], label='White Defendants Proportion', color='black')\n",
    "\n",
    "plt.axvline(pd.Timestamp('2016-12-01'), color='pink', linestyle='--', label=\"Foxx Takes Office\")\n",
    "\n",
    "plt.fill_between(raceviz['sentenceym_derived'], 0, 1, where=raceviz['total_cases'] < 100, color='gray', alpha=0.3, label='Fewer than 100 cases')\n",
    "\n",
    "plt.title('Proportion of Black and White Defendants by Month/Year')\n",
    "plt.xlabel('Date')\n",
    "plt.ylabel('Proportion of Defendants')\n",
    "plt.legend(loc='upper right')\n",
    "\n",
    "plt.show()"
   ]
  },
  {
   "cell_type": "code",
   "execution_count": null,
   "metadata": {},
   "outputs": [],
   "source": [
    "# Proportion of Incarcerated Blacks = ∑black(defendants) for t-months / ∑cases for t-months\n",
    "# Proportion of Incarcerated Whites = ∑white(defendants) for t-months / ∑cases for t-months\n",
    "\n",
    "#It seems like the proportion of black defendants is always higher than the proportion of white defendants; however, during April to May 2020, \n",
    "#we see a sharp decrease of the proportion of black defendants but a sharp increase of the proportion of white defendants. This is probably due to \n",
    "#the fact that there were less than 100 cases (due to COVID disruptions) and isn't really representative data. The trend line shows a wide disparity\n",
    "#between the proportions, depending on race, possibly due to racist sentencing policies. "
   ]
  },
  {
   "cell_type": "markdown",
   "metadata": {},
   "source": [
    "## 2.2: Investigating the first type of disparity: probation versus incaceration (10 points)\n",
    "\n",
    "One type of disparity beyond who arrives at the sentencing stage is whether the defendant receives probation or incaceration.\n",
    "\n",
    "According to the codebook, incarceration is indicated by `COMMITMENT_TYPE` == \"Illinois Department of Corrections\"\n",
    "\n",
    "Recreate the previous plot but where the y axis represents the difference between the following proportions (can be either Black - White or White - Black but make sure to label), adding a smoothed line:\n",
    "\n",
    "- Percent of black defendants who are incarcerated out of all black defendants that month/year \n",
    "- Percent of white defendants who are incarcerated out of all white defendants that month/year \n",
    "\n",
    "In a markdown cell after, write 1-2 sentences on your observations of trends over time. Do gaps seem to be widening or increasing?"
   ]
  },
  {
   "cell_type": "code",
   "execution_count": 20,
   "metadata": {},
   "outputs": [
    {
     "data": {
      "text/plain": [
       "<Figure size 1000x500 with 0 Axes>"
      ]
     },
     "execution_count": 20,
     "metadata": {},
     "output_type": "execute_result"
    },
    {
     "data": {
      "text/plain": [
       "[<matplotlib.lines.Line2D at 0x15fc05af5f0>]"
      ]
     },
     "execution_count": 20,
     "metadata": {},
     "output_type": "execute_result"
    },
    {
     "data": {
      "text/plain": [
       "[<matplotlib.lines.Line2D at 0x15fc11b99a0>]"
      ]
     },
     "execution_count": 20,
     "metadata": {},
     "output_type": "execute_result"
    },
    {
     "data": {
      "text/plain": [
       "Text(0.5, 1.0, 'Difference in Incarceration Rates Between Black and White Defendants by Month/Year')"
      ]
     },
     "execution_count": 20,
     "metadata": {},
     "output_type": "execute_result"
    },
    {
     "data": {
      "text/plain": [
       "Text(0.5, 0, 'Date')"
      ]
     },
     "execution_count": 20,
     "metadata": {},
     "output_type": "execute_result"
    },
    {
     "data": {
      "text/plain": [
       "Text(0, 0.5, 'Difference in Proportions')"
      ]
     },
     "execution_count": 20,
     "metadata": {},
     "output_type": "execute_result"
    },
    {
     "data": {
      "text/plain": [
       "<matplotlib.legend.Legend at 0x15fc0a9dd30>"
      ]
     },
     "execution_count": 20,
     "metadata": {},
     "output_type": "execute_result"
    },
    {
     "data": {
      "image/png": "[encoded data removed]",
      "text/plain": [
       "<Figure size 1000x500 with 1 Axes>"
      ]
     },
     "metadata": {},
     "output_type": "display_data"
    }
   ],
   "source": [
    "raceviz = df2.groupby('sentenceym_derived').agg(\n",
    "    black_incarcerated=('COMMITMENT_TYPE', lambda x: ((x == \"Illinois Department of Corrections\") & (df2['is_black_derived'])).sum()),\n",
    "    white_incarcerated=('COMMITMENT_TYPE', lambda x: ((x == \"Illinois Department of Corrections\") & (df2['is_white_derived'])).sum()),\n",
    "    black_defendants=('is_black_derived', 'sum'),\n",
    "    white_defendants=('is_white_derived', 'sum')\n",
    ").reset_index()\n",
    "\n",
    "raceviz['prop_incarcerated_black'] = raceviz['black_incarcerated'] / raceviz['black_defendants']\n",
    "raceviz['prop_incarcerated_white'] = raceviz['white_incarcerated'] / raceviz['white_defendants']\n",
    "raceviz['difference'] = raceviz['prop_incarcerated_black'] - raceviz['prop_incarcerated_white']\n",
    "raceviz['smoothed_difference'] = raceviz['difference'].rolling(window=3).mean()\n",
    "\n",
    "# Plot the data\n",
    "plt.figure(figsize=(10, 5))\n",
    "\n",
    "# Plot the difference\n",
    "plt.plot(raceviz['sentenceym_derived'], raceviz['difference'], label='Difference in Incarceration Rates (Black - White)', color='blue')\n",
    "plt.plot(raceviz['sentenceym_derived'], raceviz['smoothed_difference'], label='Smoothed Difference', color='green')\n",
    "\n",
    "# Title and labels\n",
    "plt.title('Difference in Incarceration Rates Between Black and White Defendants by Month/Year')\n",
    "plt.xlabel('Date')\n",
    "plt.ylabel('Difference in Proportions')\n",
    "plt.legend(loc='upper right')\n",
    "\n",
    "# Show the plot\n",
    "plt.show()"
   ]
  },
  {
   "cell_type": "code",
   "execution_count": null,
   "metadata": {},
   "outputs": [],
   "source": [
    "# The gap is relatively stagnant before early 2020. But in early 2020, it seems that the gap shifted in the opposite direction, possibly due to COVID\n",
    "# related disruptions; however, after the period there was a sharp increase in the gap. Since then, the gap continues to fluctutate but its peaks are \n",
    "# higher than before 2020 with greater fluctuations. "
   ]
  },
  {
   "cell_type": "markdown",
   "metadata": {},
   "source": [
    "## 2.3: Investigating mechanisms: incaceration rates by charge\n",
    "\n",
    "Your colleague sees the previous graph and is worried that the gap could be different---either wider or smaller---if you adjust for the fact that prosecutors have discretion in what crimes to charge defendants with. If white defendants are charged with crimes that tend to receive probation rather than incarceration, that could explain some of the gaps.\n",
    "\n",
    "In the next questions, you'll begin to investigate this."
   ]
  },
  {
   "cell_type": "code",
   "execution_count": null,
   "metadata": {},
   "outputs": [],
   "source": []
  },
  {
   "cell_type": "markdown",
   "metadata": {},
   "source": [
    "### 2.3.1: Find the most common offenses (3 points)\n",
    "\n",
    "First, create a set of 'frequent offenses' that represent (over the entire period) the union of the 10 offenses Black defendant are most likely to be charged with and the 10 offenses white defendants are most likely to be charged with (might be far less than 20 total if there's a lot of overlap in common charges)\n",
    "\n",
    "Use the `simplified_offense_derived` for this"
   ]
  },
  {
   "cell_type": "code",
   "execution_count": 496,
   "metadata": {},
   "outputs": [
    {
     "name": "stdout",
     "output_type": "stream",
     "text": [
      "Frequent Offenses (Union of Black and White defendants' top 10 offenses):\n",
      "{'Robbery', 'Theft', 'Vehicle-related', 'Battery', 'Driving With Suspended Or Revoked License', 'Other Offense', 'Residential Burglary', 'DUI', 'Burglary', 'Narcotics', 'UUW - Unlawful Use of Weapon', 'Retail Theft'}\n"
     ]
    }
   ],
   "source": [
    "black = df2[df2['is_black_derived'] == 1]\n",
    "white = df2[df2['is_white_derived'] == 1]\n",
    "top_black = black['simplified_offense_derived'].value_counts().head(10).index\n",
    "top_white = white['simplified_offense_derived'].value_counts().head(10).index\n",
    "frequent_offenses = set(top_black).union(set(top_white))\n",
    "print(\"Frequent Offenses (Union of Black and White defendants' top 10 offenses):\")\n",
    "print(frequent_offenses)"
   ]
  },
  {
   "cell_type": "code",
   "execution_count": null,
   "metadata": {},
   "outputs": [],
   "source": []
  },
  {
   "cell_type": "markdown",
   "metadata": {},
   "source": [
    "### 2.3.2: Look at incarceration rates (again just whether incarcerated) by race and offense type for these top offenses (3 points)\n",
    "\n",
    "Print a wide-format version of the resulting table (so each row is an offense type, one col is black incarceration rate for that offense type; another is the white incarceration rate) and interpret. Which offenses show the largest disparities in judges being less likely to sentence White defendants to incarceration/more likely to offer those defendants probation?\n"
   ]
  },
  {
   "cell_type": "code",
   "execution_count": 500,
   "metadata": {},
   "outputs": [
    {
     "name": "stdout",
     "output_type": "stream",
     "text": [
      "<function incarceration_rate at 0x0000013E179AD1C0>\n",
      "Offenses Showing the Largest Disparities\n",
      "                   simplified_offense_derived  black_rate  white_rate  \\\n",
      "4                                   Narcotics    0.157996    0.052398   \n",
      "10               UUW - Unlawful Use of Weapon    0.066715    0.011147   \n",
      "8                                     Robbery    0.015230    0.005793   \n",
      "0                                     Battery    0.023608    0.017510   \n",
      "11                            Vehicle-related    0.013255    0.009304   \n",
      "3   Driving With Suspended Or Revoked License    0.025892    0.025278   \n",
      "5                               Other Offense    0.004219    0.005749   \n",
      "6                        Residential Burglary    0.016337    0.020582   \n",
      "9                                       Theft    0.010123    0.015316   \n",
      "7                                Retail Theft    0.040474    0.049502   \n",
      "1                                    Burglary    0.025074    0.034186   \n",
      "2                                         DUI    0.015519    0.029929   \n",
      "\n",
      "    incarceration_rate_diff  \n",
      "4                  0.105598  \n",
      "10                 0.055568  \n",
      "8                  0.009437  \n",
      "0                  0.006098  \n",
      "11                 0.003952  \n",
      "3                  0.000615  \n",
      "5                 -0.001530  \n",
      "6                 -0.004245  \n",
      "9                 -0.005192  \n",
      "7                 -0.009028  \n",
      "1                 -0.009112  \n",
      "2                 -0.014410  \n"
     ]
    },
    {
     "name": "stderr",
     "output_type": "stream",
     "text": [
      "C:\\Users\\shoai\\AppData\\Local\\Temp\\ipykernel_2256\\3802631823.py:10: DeprecationWarning: DataFrameGroupBy.apply operated on the grouping columns. This behavior is deprecated, and in a future version of pandas the grouping columns will be excluded from the operation. Either pass `include_groups=False` to exclude the groupings or explicitly select the grouping columns after groupby to silence this warning.\n",
      "  more_incar_rate = frequent2.groupby('simplified_offense_derived').apply(\n"
     ]
    }
   ],
   "source": [
    "frequent2 = df2[df2['simplified_offense_derived'].isin(frequent_offenses)]\n",
    "# ok so gotta calculate the rate so basically have to do the sum an dmake a proportion\n",
    "def incarceration_rate(df2, race_col):\n",
    "    incarcerated = df2[df2['COMMITMENT_TYPE'] == \"Illinois Department of Corrections\"]\n",
    "    incarceration_rate = incarcerated[race_col].sum() / df[race_col].sum()\n",
    "    return incarceration_rate\n",
    "\n",
    "# now we gotta group and fill the black vs white rates\n",
    "more_incar_rate = frequent2.groupby('simplified_offense_derived').apply(\n",
    "    lambda x: pd.Series({\n",
    "        'black_rate': incarceration_rate(x, 'is_black_derived'),\n",
    "        'white_rate': incarceration_rate(x, 'is_white_derived')\n",
    "    })\n",
    ").reset_index()\n",
    "\n",
    "# make the rates diffrentiated (so subtract b - w)\n",
    "more_incar_rate['incarceration_rate_diff'] = more_incar_rate['black_rate'] - more_incar_rate['white_rate']\n",
    "sorty = more_incar_rate.sort_values(by='incarceration_rate_diff', ascending=False)\n",
    "# make the lil table\n",
    "print(\"Offenses Showing the Largest Disparities\")\n",
    "print(sorty)"
   ]
  },
  {
   "cell_type": "code",
   "execution_count": null,
   "metadata": {},
   "outputs": [],
   "source": [
    "# The offenses with the largest disparities in which white defendants are less likely to be incarcerated for compared to black defendants is \n",
    "# Narcotics (#1) followed by Unlawful Use of Weapon (#2) followed by Robbery (#3) "
   ]
  },
  {
   "cell_type": "markdown",
   "metadata": {},
   "source": [
    "### 2.3.3: Examine whether this changes pre and post change to charging threshold for retail theft (13 points)\n",
    "\n",
    "One important question is not only whether there are disparities by offense type but also whether these disparities are changing over time.\n",
    "\n",
    "The SAO, for instance, announced in December of 2016 that they would no longer default to charging retail thefts of under \\$1,000 as felonies. This change might have (1) decreased disparities or (2) increased disparities, depending on the correlation between race/ethnicity and magnitude of goods stolen: [news coverage](https://www.dnainfo.com/chicago/20161215/little-village/kim-foxx-raises-bar-for-retail-theft-felonies/). \n",
    "\n",
    "Focusing on `simplified_offense_derived` == \"Retail theft.\" Using a function and/or loop (Dec. 2016 is always excluded as a transition month):\n",
    "\n",
    "- Compare Black-White disparities before and after the change using a two-month bandwidth (so pre is October and November 2016; post is January and February 2017)\n",
    "\n",
    "- Compare Black-White disparities before and after the change using a four-month bandwidth (so pre is August- November 2016; post is January - April 2017)\n",
    "\n",
    "- Compare Black-White disparities using an eight-month bandwidth\n",
    "\n",
    "- Compare Black-White disparities using a twelve-month bandwidth\n",
    "\n",
    "\n",
    "------------------ \n",
    "\n",
    "- Print a table with the results (any organization is fine as long as it's clear)  \n",
    "\n",
    "- Create a bar chart where the x axis represents different bandwidths (2, 4, etc); the y axis the size of the Black-White gap in whether the defendant receives incarceration, and for each of the x axis points, you have one shaded bar representing \"before\" the change, another representing \"after\" the change (make sure that before is ordered before after and the bandwidths are from smallest to largest)\n",
    "\n",
    "*Note*: for each of the bandwidths include dates the entire month (e.g., for the first, include not only 02-01-2017 but everything up through 02-28-2017; easiest way is for the subsetting to use the rounded `sentenceym_derived`). Also make sure to only include white or black defendants.\n",
    "\n",
    "\n",
    "**Extra credit**: because the bandwidths have different sample sizes, a better viz incorporates measures of uncertainty. Add standard errors to the estimates using the formula: $(\\dfrac{p(1-p)}{n})^{0.5}$ where $p$ is the gap and $N$ is the number of cases in each bandwidth period \n"
   ]
  },
  {
   "cell_type": "code",
   "execution_count": 582,
   "metadata": {},
   "outputs": [
    {
     "name": "stdout",
     "output_type": "stream",
     "text": [
      "                    Disparity Before  Disparity After\n",
      "Time Window                                          \n",
      "2-month bandwidth           0.486361         0.420405\n",
      "4-month bandwidth           0.426204         0.375245\n",
      "8-month bandwidth           0.390051         0.403702\n",
      "12-month bandwidth          0.409364         0.421391\n"
     ]
    },
    {
     "data": {
      "text/plain": [
       "<Figure size 1000x600 with 0 Axes>"
      ]
     },
     "execution_count": 582,
     "metadata": {},
     "output_type": "execute_result"
    },
    {
     "data": {
      "text/plain": [
       "<BarContainer object of 4 artists>"
      ]
     },
     "execution_count": 582,
     "metadata": {},
     "output_type": "execute_result"
    },
    {
     "data": {
      "text/plain": [
       "<BarContainer object of 4 artists>"
      ]
     },
     "execution_count": 582,
     "metadata": {},
     "output_type": "execute_result"
    },
    {
     "data": {
      "text/plain": [
       "([<matplotlib.axis.XTick at 0x13e1dcdbfe0>,\n",
       "  <matplotlib.axis.XTick at 0x13e1dcd9d90>,\n",
       "  <matplotlib.axis.XTick at 0x13e1dc45970>,\n",
       "  <matplotlib.axis.XTick at 0x13e1dc7bda0>],\n",
       " [Text(0.2, 0, '2-month bandwidth'),\n",
       "  Text(1.2, 0, '4-month bandwidth'),\n",
       "  Text(2.2, 0, '8-month bandwidth'),\n",
       "  Text(3.2, 0, '12-month bandwidth')])"
      ]
     },
     "execution_count": 582,
     "metadata": {},
     "output_type": "execute_result"
    },
    {
     "data": {
      "text/plain": [
       "Text(0.5, 1.0, 'Black-White Gap in Incarceration Rates Before and After Change')"
      ]
     },
     "execution_count": 582,
     "metadata": {},
     "output_type": "execute_result"
    },
    {
     "data": {
      "text/plain": [
       "Text(0.5, 0, 'Bandwidth')"
      ]
     },
     "execution_count": 582,
     "metadata": {},
     "output_type": "execute_result"
    },
    {
     "data": {
      "text/plain": [
       "Text(0, 0.5, 'Size of Black-White Gap in Incarceration')"
      ]
     },
     "execution_count": 582,
     "metadata": {},
     "output_type": "execute_result"
    },
    {
     "data": {
      "text/plain": [
       "<matplotlib.legend.Legend at 0x13e1dcd95e0>"
      ]
     },
     "execution_count": 582,
     "metadata": {},
     "output_type": "execute_result"
    },
    {
     "data": {
      "image/png": "[encoded data removed]",
      "text/plain": [
       "<Figure size 1000x600 with 1 Axes>"
      ]
     },
     "metadata": {},
     "output_type": "display_data"
    }
   ],
   "source": [
    "retail = df2[df2['simplified_offense_derived'] == 'Retail Theft']\n",
    "\n",
    "def disparity_window(dataframe, pre_month_start, pre_month_end, post_month_start, post_month_end): \n",
    "        monthly_data = (dataframe.groupby(dataframe['sentenceymd_derived'].dt.to_period('M'))\n",
    "                    .agg(total_cases=('CASE_ID', 'nunique'),\n",
    "                         black_defendants=('is_black_derived', 'sum'),\n",
    "                         white_defendants=('is_white_derived', 'sum'))\n",
    "                    .reset_index())   \n",
    "    \n",
    "        monthly_data['prop_black'] = monthly_data['black_defendants'] / monthly_data['total_cases']\n",
    "        monthly_data['prop_white'] = monthly_data['white_defendants'] / monthly_data['total_cases']\n",
    "\n",
    "        pre_period = monthly_data[(monthly_data['sentenceymd_derived'] >= pre_month_start) & \n",
    "                              (monthly_data['sentenceymd_derived'] <= pre_month_end)]\n",
    "        post_period = monthly_data[(monthly_data['sentenceymd_derived'] >= post_month_start) & \n",
    "                               (monthly_data['sentenceymd_derived'] <= post_month_end)]\n",
    "\n",
    "        pre_black_mean = pre_period['prop_black'].mean()\n",
    "        pre_white_mean = pre_period['prop_white'].mean()\n",
    "        post_black_mean = post_period['prop_black'].mean()\n",
    "        post_white_mean = post_period['prop_white'].mean()\n",
    "        disparity_before = pre_black_mean - pre_white_mean\n",
    "        disparity_after = post_black_mean - post_white_mean\n",
    "        n_pre = pre_period['total_cases'].sum()\n",
    "        n_post = post_period['total_cases'].sum()\n",
    "\n",
    "        se_before = ((disparity_before * (1 - disparity_before)) / n_pre) ** 0.5 \n",
    "        se_after = ((disparity_after * (1 - disparity_after)) / n_post) ** 0.5 \n",
    "\n",
    "        return (disparity_before, disparity_after, se_before, se_after)\n",
    "\n",
    "time_windows = {\n",
    "    \"2-month bandwidth\": ('2016-10-01', '2016-11-30', '2017-01-01', '2017-02-28'),\n",
    "    \"4-month bandwidth\": ('2016-08-01', '2016-11-30', '2017-01-01', '2017-04-30'),\n",
    "    \"8-month bandwidth\": ('2016-04-01', '2016-11-30', '2017-01-01', '2017-09-30'),\n",
    "    \"12-month bandwidth\": ('2015-12-01', '2016-11-30', '2017-01-01', '2017-12-31')\n",
    "}\n",
    "\n",
    "results = []\n",
    "\n",
    "for label, (pre_start, pre_end, post_start, post_end) in time_windows.items():\n",
    "    disparity_before, disparity_after, se_before, se_after = disparity_window(\n",
    "        retail, \n",
    "        pre_month_start=pre_start, \n",
    "        pre_month_end=pre_end,\n",
    "        post_month_start=post_start, \n",
    "        post_month_end=post_end\n",
    "    )\n",
    "    results.append({\n",
    "        'Time Window': label,\n",
    "        'Disparity Before': disparity_before,\n",
    "        'Disparity After': disparity_after,\n",
    "        'SE Before': se_before,\n",
    "        'SE After': se_after\n",
    "    })\n",
    "\n",
    "results_df = pd.DataFrame(results)\n",
    "\n",
    "results_table = results_df.set_index('Time Window')[['Disparity Before', 'Disparity After']]\n",
    "\n",
    "print(results_table)\n",
    "\n",
    "results_df = pd.DataFrame(results)\n",
    "\n",
    "bandwidths = results_df['Time Window'].tolist()\n",
    "before_values = results_df['Disparity Before'].tolist()\n",
    "after_values = results_df['Disparity After'].tolist()\n",
    "se_before = results_df['SE Before'].tolist()\n",
    "se_after = results_df['SE After'].tolist()\n",
    "\n",
    "x_before = range(len(bandwidths))\n",
    "x_after = []\n",
    "for p in x_before: \n",
    "    p = p + bar_width\n",
    "    x_after.append(p)\n",
    "\n",
    "x_ticks = []\n",
    "for p in x_before: \n",
    "    p = p + bar_width/2\n",
    "    x_ticks.append(p)\n",
    "\n",
    "plt.figure(figsize=(10, 6))\n",
    "bar_width = 0.4\n",
    "\n",
    "plt.bar(x_before, before_values, width=bar_width, label='Before', yerr=se_before, color='lightblue')\n",
    "plt.bar(x_after, after_values, width=bar_width, label='After', yerr=se_after, color='salmon')\n",
    "\n",
    "plt.xticks(x_ticks, bandwidths)\n",
    "plt.title('Black-White Gap in Incarceration Rates Before and After Change')\n",
    "plt.xlabel('Bandwidth')\n",
    "plt.ylabel('Size of Black-White Gap in Incarceration')\n",
    "plt.legend(loc='upper right')\n",
    "\n",
    "plt.tight_layout()\n",
    "plt.show()"
   ]
  },
  {
   "cell_type": "markdown",
   "metadata": {},
   "source": [
    "### 2.3.3.1: Interpret the results (2 points)\n",
    "\n",
    "Write a two-sentence interpretation of the results. What might this show about how people on both sides of the issue---those who argued that the retail theft policy change would narrow disparities; those who argued that the change may widen disparities--could support their claims? "
   ]
  },
  {
   "cell_type": "code",
   "execution_count": 23,
   "metadata": {},
   "outputs": [],
   "source": [
    "#For those who argued that the retail theft policy change would narrow disparities, it seems like if we are looking at only the 2-month and 4-month \n",
    "# bandwidth, then the policy after it was instated reduced the gap in incarceration between whites and blacks. However, for those who argued that the \n",
    "#policy would widen disparities, could say that in the 8-month and 12-month bandwidth, the gap in incarceration between whites and blacks after the \n",
    "# policy change, increased. "
   ]
  },
  {
   "cell_type": "code",
   "execution_count": null,
   "metadata": {},
   "outputs": [],
   "source": []
  }
 ],
 "metadata": {
  "kernelspec": {
   "display_name": "Python 3 (ipykernel)",
   "language": "python",
   "name": "python3"
  },
  "language_info": {
   "codemirror_mode": {
    "name": "ipython",
    "version": 3
   },
   "file_extension": ".py",
   "mimetype": "text/x-python",
   "name": "python",
   "nbconvert_exporter": "python",
   "pygments_lexer": "ipython3",
   "version": "3.12.4"
  }
 },
 "nbformat": 4,
 "nbformat_minor": 4
}
